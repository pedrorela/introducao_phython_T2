{
 "cells": [
  {
   "cell_type": "markdown",
   "metadata": {},
   "source": [
    "<strong>Análise de dados</strong>\n",
    "1. Carregar o dataset e verificar suas informações gerais;\n",
    "2. Examinar as estatísticas descritivas das variáveis numéricas, verificando médias,\n",
    "medianas, desvios padrão, mínimos e máximos.\n",
    "3. Analisar a distribuição de frequências das variáveis categóricas.\n",
    "4. Verificar a representatividade de homens e mulheres nas aplicações e admissões por\n",
    "departamento.\n",
    "5. Comparar o número total de candidatos (admitidos e rejeitados) por gênero.\n",
    "6. Comparar as taxas de admissão por departamento e gênero.\n",
    "7. Comparar as taxas de admissão agregadas e desagregadas por departamento.\n",
    "8. Verificar a relação entre o número de candidatos e as taxas de admissão/rejeição por\n",
    "gênero e departamento.\n",
    "9. Comparar as taxas de admissão agregadas para homens e mulheres.\n",
    "10. Analisar como as taxas de admissão de homens e mulheres variam entre os\n",
    "departamentos.\n",
    "11. Identificar quais departamentos têm as maiores e menores taxas de rejeição.\n",
    "12. Avaliar a proporção de inscrições feitas por homens e mulheres nos departamentos mais\n",
    "e menos competitivos.\n",
    "13. Comparar as taxas de admissão gerais com as taxas de admissão por departamento.\n",
    "14. Verificar se existem preferências de departamentos por gênero que podem influenciar os\n",
    "resultados observados.\n",
    "<br>\n",
    "\n",
    "\n",
    "<strong>Questionamentos a serem respondidos durante a análise de dados</strong>\n",
    "1. Há departamentos ou gêneros que apresentam taxas de admissão ou rejeição\n",
    "desproporcionalmente altas ou baixas?\n",
    "2. Há equilíbrio na distribuição de gêneros nos departamentos?\n",
    "3. Como os padrões de admissão diferem entre os departamentos e gêneros?\n",
    "4. Existe um viés aparente contra algum gênero?\n",
    "5. Há departamentos mais favoráveis a um gênero específico?\n",
    "6. Quais departamentos são mais competitivos e como isso afeta os gêneros?\n",
    "7. Como as conclusões mudam ao desagregar os dados por departamento?"
   ]
  },
  {
   "cell_type": "markdown",
   "metadata": {},
   "source": [
    "<p style=\"color: yellow;\">1. Carregar o dataset e verificar suas informações gerais;</p>"
   ]
  },
  {
   "cell_type": "code",
   "execution_count": 120,
   "metadata": {},
   "outputs": [
    {
     "name": "stdout",
     "output_type": "stream",
     "text": [
      "   Unnamed: 0 Major Gender Admission\n",
      "0           0     C      F  Rejected\n",
      "1           1     B      M  Accepted\n",
      "2           6     F      F  Accepted\n",
      "3           9     A      M  Accepted\n",
      "4          11     B      M  Accepted\n",
      "5          12     C      M  Rejected\n",
      "6          13     A      M  Rejected\n",
      "7          16     A      M  Accepted\n",
      "8          19     F      M  Rejected\n",
      "9          21     C      M  Accepted\n"
     ]
    }
   ],
   "source": [
    "import pandas as pd\n",
    "\n",
    "#Abre o arquivo\n",
    "df = pd.read_csv('output.csv')\n",
    "\n",
    "# Exibe as primeiras linhas do DataFrame\n",
    "print(df.head(10))"
   ]
  },
  {
   "cell_type": "code",
   "execution_count": 121,
   "metadata": {},
   "outputs": [
    {
     "name": "stdout",
     "output_type": "stream",
     "text": [
      "     Major Gender Admission\n",
      "0        C      F  Rejected\n",
      "1        B      M  Accepted\n",
      "2        F      F  Accepted\n",
      "3        A      M  Accepted\n",
      "4        B      M  Accepted\n",
      "...    ...    ...       ...\n",
      "4834     A      M  Accepted\n",
      "4835     F      M  Rejected\n",
      "4836     A      M  Accepted\n",
      "4837     A      M  Accepted\n",
      "4838     D      M  Accepted\n",
      "\n",
      "[4839 rows x 3 columns]\n"
     ]
    }
   ],
   "source": [
    "# Deleta a primeira coluna\n",
    "df = df.drop(df.columns[0], axis=1)\n",
    "\n",
    "\n",
    "print(df)"
   ]
  },
  {
   "cell_type": "markdown",
   "metadata": {},
   "source": [
    "<p style=\"color: yellow;\">2. Examinar as estatísticas descritivas das variáveis numéricas, verificando médias,\n",
    "medianas, desvios padrão, mínimos e máximos.</p>\n",
    "\n",
    "<i> Como os dados são categóricos não será possivel realizar a análise das variáveis numéricas, verificando médias,\n",
    "medianas, desvios padrão, mínimos e máximos... </i>"
   ]
  },
  {
   "cell_type": "markdown",
   "metadata": {},
   "source": [
    "<p style=\"color: yellow;\">3. Analisar a distribuição de frequências das variáveis categóricas.</p>"
   ]
  },
  {
   "cell_type": "code",
   "execution_count": 122,
   "metadata": {},
   "outputs": [
    {
     "data": {
      "text/plain": [
       "Major\n",
       "A    1246\n",
       "B     585\n",
       "C     918\n",
       "D     792\n",
       "E     584\n",
       "F     714\n",
       "Name: count, dtype: int64"
      ]
     },
     "execution_count": 122,
     "metadata": {},
     "output_type": "execute_result"
    }
   ],
   "source": [
    "#Distribuição de candidatos inscritos por Categoria\n",
    "Distribuição = df['Major'].value_counts()\n",
    "\n",
    "# Reordena a Distribuição em ordem alfabética dos índices\n",
    "Distribuição = Distribuição.sort_index()\n",
    "\n",
    "Distribuição\n",
    "\n"
   ]
  },
  {
   "cell_type": "code",
   "execution_count": 123,
   "metadata": {},
   "outputs": [
    {
     "data": {
      "image/png": "[encoded data removed]",
      "text/plain": [
       "<Figure size 640x480 with 1 Axes>"
      ]
     },
     "metadata": {},
     "output_type": "display_data"
    }
   ],
   "source": [
    "import matplotlib.pyplot as plt\n",
    "\n",
    "#Cria um gráfico de barras baseado no número de inscrições por curso\n",
    "\n",
    "value_counts = df['Major'].value_counts()\n",
    "\n",
    "\n",
    "ax = value_counts.plot(kind='bar')\n",
    "ax.set_ylim(top=1500)\n",
    "\n",
    "\n",
    "for i, value in enumerate(value_counts):\n",
    "    ax.text(i, value + 0.05 * value, str(value), ha='center', va='bottom')\n",
    "\n",
    "plt.title('Distribuição de Tipos de Curso')\n",
    "plt.xlabel('Major')\n",
    "plt.ylabel('# de inscrições')\n",
    "\n",
    "\n",
    "plt.show()\n"
   ]
  },
  {
   "cell_type": "markdown",
   "metadata": {},
   "source": [
    "<p style=\"color: yellow;\">4. Verificar a representatividade de homens e mulheres nas aplicações e admissões por\n",
    "departamento.</p>"
   ]
  },
  {
   "cell_type": "code",
   "execution_count": 124,
   "metadata": {},
   "outputs": [
    {
     "data": {
      "text/html": [
       "<div>\n",
       "<style scoped>\n",
       "    .dataframe tbody tr th:only-of-type {\n",
       "        vertical-align: middle;\n",
       "    }\n",
       "\n",
       "    .dataframe tbody tr th {\n",
       "        vertical-align: top;\n",
       "    }\n",
       "\n",
       "    .dataframe thead th {\n",
       "        text-align: right;\n",
       "    }\n",
       "</style>\n",
       "<table border=\"1\" class=\"dataframe\">\n",
       "  <thead>\n",
       "    <tr style=\"text-align: right;\">\n",
       "      <th>Gender</th>\n",
       "      <th>F</th>\n",
       "      <th>M</th>\n",
       "    </tr>\n",
       "    <tr>\n",
       "      <th>Major</th>\n",
       "      <th></th>\n",
       "      <th></th>\n",
       "    </tr>\n",
       "  </thead>\n",
       "  <tbody>\n",
       "    <tr>\n",
       "      <th>A</th>\n",
       "      <td>108</td>\n",
       "      <td>1138</td>\n",
       "    </tr>\n",
       "    <tr>\n",
       "      <th>B</th>\n",
       "      <td>25</td>\n",
       "      <td>560</td>\n",
       "    </tr>\n",
       "    <tr>\n",
       "      <th>C</th>\n",
       "      <td>593</td>\n",
       "      <td>325</td>\n",
       "    </tr>\n",
       "    <tr>\n",
       "      <th>D</th>\n",
       "      <td>375</td>\n",
       "      <td>417</td>\n",
       "    </tr>\n",
       "    <tr>\n",
       "      <th>E</th>\n",
       "      <td>393</td>\n",
       "      <td>191</td>\n",
       "    </tr>\n",
       "    <tr>\n",
       "      <th>F</th>\n",
       "      <td>341</td>\n",
       "      <td>373</td>\n",
       "    </tr>\n",
       "  </tbody>\n",
       "</table>\n",
       "</div>"
      ],
      "text/plain": [
       "Gender    F     M\n",
       "Major            \n",
       "A       108  1138\n",
       "B        25   560\n",
       "C       593   325\n",
       "D       375   417\n",
       "E       393   191\n",
       "F       341   373"
      ]
     },
     "execution_count": 124,
     "metadata": {},
     "output_type": "execute_result"
    }
   ],
   "source": [
    "#Agrupa por genero\n",
    "grouped = df.groupby(['Major', 'Gender']).size().unstack(fill_value=0)\n",
    "\n",
    "\n",
    "grouped"
   ]
  },
  {
   "cell_type": "code",
   "execution_count": 125,
   "metadata": {},
   "outputs": [
    {
     "data": {
      "image/png": "[encoded data removed]",
      "text/plain": [
       "<Figure size 640x480 with 1 Axes>"
      ]
     },
     "metadata": {},
     "output_type": "display_data"
    }
   ],
   "source": [
    "#Cria um gráfico de barras baseado no número de inscrições por curso e por gênero\n",
    "\n",
    "ax = grouped.plot(kind='bar', stacked=False)\n",
    "\n",
    "for p in ax.patches:\n",
    "    ax.annotate(\n",
    "        str(p.get_height()), \n",
    "        (p.get_x() + p.get_width() / 2., p.get_height()), \n",
    "        ha='center', \n",
    "        va='bottom'\n",
    "    )\n",
    "\n",
    "plt.title('Distribuição de Tipos de Curso por Gênero')\n",
    "plt.xlabel('Tipo de Curso')\n",
    "plt.ylabel('Número de Alunos')\n",
    "plt.xticks(rotation=0) \n",
    "plt.legend(title='Gênero') \n",
    "\n",
    "\n",
    "plt.tight_layout()\n",
    "\n",
    "\n",
    "plt.show()\n"
   ]
  },
  {
   "cell_type": "markdown",
   "metadata": {},
   "source": [
    "<p style=\"color: yellow;\">5. Comparar o número total de candidatos (admitidos e rejeitados) por gênero.</p>"
   ]
  },
  {
   "cell_type": "code",
   "execution_count": 126,
   "metadata": {},
   "outputs": [
    {
     "data": {
      "text/plain": [
       "Gender\n",
       "M    3004\n",
       "F    1835\n",
       "Name: count, dtype: int64"
      ]
     },
     "execution_count": 126,
     "metadata": {},
     "output_type": "execute_result"
    }
   ],
   "source": [
    "# Distribuição de Sexo entre os aplicantes\n",
    "df['Gender'].value_counts()\n",
    "\n"
   ]
  },
  {
   "cell_type": "code",
   "execution_count": 127,
   "metadata": {},
   "outputs": [
    {
     "data": {
      "image/png": "[encoded data removed]",
      "text/plain": [
       "<Figure size 400x400 with 1 Axes>"
      ]
     },
     "metadata": {},
     "output_type": "display_data"
    }
   ],
   "source": [
    "\n",
    "#Distribuição dos inscritos por gênero\n",
    "gender_counts = df['Gender'].value_counts()\n",
    "\n",
    "\n",
    "plt.figure(figsize=(4, 4))\n",
    "plt.pie(\n",
    "    gender_counts,\n",
    "    labels=gender_counts.index,\n",
    "    autopct='%1.1f%%',\n",
    "    startangle=90,  \n",
    "    colors=['skyblue', 'pink']\n",
    ")\n",
    "\n",
    "plt.title('Distribuição por Gênero')\n",
    "plt.axis('equal')  \n",
    "\n",
    "plt.show()"
   ]
  },
  {
   "cell_type": "code",
   "execution_count": 128,
   "metadata": {},
   "outputs": [
    {
     "data": {
      "text/html": [
       "<div>\n",
       "<style scoped>\n",
       "    .dataframe tbody tr th:only-of-type {\n",
       "        vertical-align: middle;\n",
       "    }\n",
       "\n",
       "    .dataframe tbody tr th {\n",
       "        vertical-align: top;\n",
       "    }\n",
       "\n",
       "    .dataframe thead th {\n",
       "        text-align: right;\n",
       "    }\n",
       "</style>\n",
       "<table border=\"1\" class=\"dataframe\">\n",
       "  <thead>\n",
       "    <tr style=\"text-align: right;\">\n",
       "      <th>Gender</th>\n",
       "      <th>F</th>\n",
       "      <th>M</th>\n",
       "    </tr>\n",
       "    <tr>\n",
       "      <th>Admission</th>\n",
       "      <th></th>\n",
       "      <th></th>\n",
       "    </tr>\n",
       "  </thead>\n",
       "  <tbody>\n",
       "    <tr>\n",
       "      <th>Accepted</th>\n",
       "      <td>557</td>\n",
       "      <td>1511</td>\n",
       "    </tr>\n",
       "    <tr>\n",
       "      <th>Rejected</th>\n",
       "      <td>1278</td>\n",
       "      <td>1493</td>\n",
       "    </tr>\n",
       "  </tbody>\n",
       "</table>\n",
       "</div>"
      ],
      "text/plain": [
       "Gender        F     M\n",
       "Admission            \n",
       "Accepted    557  1511\n",
       "Rejected   1278  1493"
      ]
     },
     "execution_count": 128,
     "metadata": {},
     "output_type": "execute_result"
    }
   ],
   "source": [
    "# Agrupamento pela quantidade de candidatos aprovados\n",
    "Gender_Admission = df.groupby(['Admission', 'Gender']).size().unstack(fill_value=0)\n",
    "\n",
    "\n",
    "Gender_Admission"
   ]
  },
  {
   "cell_type": "code",
   "execution_count": 129,
   "metadata": {},
   "outputs": [
    {
     "name": "stdout",
     "output_type": "stream",
     "text": [
      "Percentual de provação baseado no total de inscritos por gênero\n"
     ]
    },
    {
     "data": {
      "text/plain": [
       "Gender\n",
       "F    11.51\n",
       "M    31.23\n",
       "dtype: float64"
      ]
     },
     "execution_count": 129,
     "metadata": {},
     "output_type": "execute_result"
    }
   ],
   "source": [
    "# total por gênero\n",
    "total_por_sexo = df.shape[0]\n",
    "\n",
    "\n",
    "# número de aprovações por gênero\n",
    "aprovados_por_sexo = df[df['Admission'] == 'Accepted'].groupby('Gender').size()\n",
    "\n",
    "# Porcentagem de aprovação por gênero\n",
    "porcentagem_aprovacao_por_sexo = round((aprovados_por_sexo / total_por_sexo) * 100,2)\n",
    "print('Percentual de provação baseado no total de inscritos por gênero')\n",
    "porcentagem_aprovacao_por_sexo\n"
   ]
  },
  {
   "cell_type": "markdown",
   "metadata": {},
   "source": [
    "<p style=\"color: yellow;\">6. Comparar as taxas de admissão por departamento e gênero.</p>"
   ]
  },
  {
   "cell_type": "code",
   "execution_count": 130,
   "metadata": {},
   "outputs": [
    {
     "name": "stdout",
     "output_type": "stream",
     "text": [
      "Admissão por Departamento\n"
     ]
    },
    {
     "data": {
      "text/html": [
       "<div>\n",
       "<style scoped>\n",
       "    .dataframe tbody tr th:only-of-type {\n",
       "        vertical-align: middle;\n",
       "    }\n",
       "\n",
       "    .dataframe tbody tr th {\n",
       "        vertical-align: top;\n",
       "    }\n",
       "\n",
       "    .dataframe thead th {\n",
       "        text-align: right;\n",
       "    }\n",
       "</style>\n",
       "<table border=\"1\" class=\"dataframe\">\n",
       "  <thead>\n",
       "    <tr style=\"text-align: right;\">\n",
       "      <th>Admission</th>\n",
       "      <th>Accepted</th>\n",
       "      <th>Rejected</th>\n",
       "    </tr>\n",
       "    <tr>\n",
       "      <th>Major</th>\n",
       "      <th></th>\n",
       "      <th></th>\n",
       "    </tr>\n",
       "  </thead>\n",
       "  <tbody>\n",
       "    <tr>\n",
       "      <th>A</th>\n",
       "      <td>914</td>\n",
       "      <td>332</td>\n",
       "    </tr>\n",
       "    <tr>\n",
       "      <th>B</th>\n",
       "      <td>370</td>\n",
       "      <td>215</td>\n",
       "    </tr>\n",
       "    <tr>\n",
       "      <th>C</th>\n",
       "      <td>321</td>\n",
       "      <td>597</td>\n",
       "    </tr>\n",
       "    <tr>\n",
       "      <th>D</th>\n",
       "      <td>269</td>\n",
       "      <td>523</td>\n",
       "    </tr>\n",
       "    <tr>\n",
       "      <th>E</th>\n",
       "      <td>147</td>\n",
       "      <td>437</td>\n",
       "    </tr>\n",
       "    <tr>\n",
       "      <th>F</th>\n",
       "      <td>47</td>\n",
       "      <td>667</td>\n",
       "    </tr>\n",
       "  </tbody>\n",
       "</table>\n",
       "</div>"
      ],
      "text/plain": [
       "Admission  Accepted  Rejected\n",
       "Major                        \n",
       "A               914       332\n",
       "B               370       215\n",
       "C               321       597\n",
       "D               269       523\n",
       "E               147       437\n",
       "F                47       667"
      ]
     },
     "execution_count": 130,
     "metadata": {},
     "output_type": "execute_result"
    }
   ],
   "source": [
    "#Distribuição por aprovados/reprovados por departamento\n",
    "Admission = df.groupby(['Major', 'Admission']).size().unstack(fill_value=0)\n",
    "\n",
    "print(\"Admissão por Departamento\")\n",
    "Admission"
   ]
  },
  {
   "cell_type": "code",
   "execution_count": 131,
   "metadata": {},
   "outputs": [
    {
     "data": {
      "image/png": "[encoded data removed]",
      "text/plain": [
       "<Figure size 1000x600 with 1 Axes>"
      ]
     },
     "metadata": {},
     "output_type": "display_data"
    }
   ],
   "source": [
    "#Gráfico comparando as aprovações e reprovações por curso\n",
    "ax = Admission.plot(kind='bar', stacked=False, figsize=(10, 6), color=['green', 'red'])\n",
    "\n",
    "for p in ax.patches:\n",
    "    ax.annotate(\n",
    "        str(p.get_height()), \n",
    "        (p.get_x() + p.get_width() / 2., p.get_height()), \n",
    "        ha='center', \n",
    "        va='bottom'\n",
    "    )\n",
    "\n",
    "plt.title('Distribuição de Admissão por Curso')\n",
    "plt.xlabel('Major')\n",
    "plt.ylabel('# de inscrições')\n",
    "plt.xticks(rotation=0) \n",
    "plt.legend(title='Status da Admissão') \n",
    "\n",
    "\n",
    "plt.tight_layout()\n",
    "\n",
    "\n",
    "plt.show()"
   ]
  },
  {
   "cell_type": "code",
   "execution_count": 137,
   "metadata": {},
   "outputs": [
    {
     "name": "stdout",
     "output_type": "stream",
     "text": [
      "Admissão por Departamento e Genero\n"
     ]
    },
    {
     "data": {
      "text/html": [
       "<div>\n",
       "<style scoped>\n",
       "    .dataframe tbody tr th:only-of-type {\n",
       "        vertical-align: middle;\n",
       "    }\n",
       "\n",
       "    .dataframe tbody tr th {\n",
       "        vertical-align: top;\n",
       "    }\n",
       "\n",
       "    .dataframe thead th {\n",
       "        text-align: right;\n",
       "    }\n",
       "</style>\n",
       "<table border=\"1\" class=\"dataframe\">\n",
       "  <thead>\n",
       "    <tr style=\"text-align: right;\">\n",
       "      <th>Gender</th>\n",
       "      <th>F</th>\n",
       "      <th>M</th>\n",
       "      <th>F_Approved</th>\n",
       "      <th>M_Approved</th>\n",
       "      <th>F_%</th>\n",
       "      <th>M_%</th>\n",
       "    </tr>\n",
       "    <tr>\n",
       "      <th>Major</th>\n",
       "      <th></th>\n",
       "      <th></th>\n",
       "      <th></th>\n",
       "      <th></th>\n",
       "      <th></th>\n",
       "      <th></th>\n",
       "    </tr>\n",
       "  </thead>\n",
       "  <tbody>\n",
       "    <tr>\n",
       "      <th>A</th>\n",
       "      <td>108</td>\n",
       "      <td>1138</td>\n",
       "      <td>89</td>\n",
       "      <td>825</td>\n",
       "      <td>82.4</td>\n",
       "      <td>72.5</td>\n",
       "    </tr>\n",
       "    <tr>\n",
       "      <th>B</th>\n",
       "      <td>25</td>\n",
       "      <td>560</td>\n",
       "      <td>17</td>\n",
       "      <td>353</td>\n",
       "      <td>68.0</td>\n",
       "      <td>63.0</td>\n",
       "    </tr>\n",
       "    <tr>\n",
       "      <th>C</th>\n",
       "      <td>593</td>\n",
       "      <td>325</td>\n",
       "      <td>201</td>\n",
       "      <td>120</td>\n",
       "      <td>33.9</td>\n",
       "      <td>36.9</td>\n",
       "    </tr>\n",
       "    <tr>\n",
       "      <th>D</th>\n",
       "      <td>375</td>\n",
       "      <td>417</td>\n",
       "      <td>131</td>\n",
       "      <td>138</td>\n",
       "      <td>34.9</td>\n",
       "      <td>33.1</td>\n",
       "    </tr>\n",
       "    <tr>\n",
       "      <th>E</th>\n",
       "      <td>393</td>\n",
       "      <td>191</td>\n",
       "      <td>94</td>\n",
       "      <td>53</td>\n",
       "      <td>23.9</td>\n",
       "      <td>27.7</td>\n",
       "    </tr>\n",
       "    <tr>\n",
       "      <th>F</th>\n",
       "      <td>341</td>\n",
       "      <td>373</td>\n",
       "      <td>25</td>\n",
       "      <td>22</td>\n",
       "      <td>7.3</td>\n",
       "      <td>5.9</td>\n",
       "    </tr>\n",
       "  </tbody>\n",
       "</table>\n",
       "</div>"
      ],
      "text/plain": [
       "Gender    F     M  F_Approved  M_Approved   F_%   M_%\n",
       "Major                                                \n",
       "A       108  1138          89         825  82.4  72.5\n",
       "B        25   560          17         353  68.0  63.0\n",
       "C       593   325         201         120  33.9  36.9\n",
       "D       375   417         131         138  34.9  33.1\n",
       "E       393   191          94          53  23.9  27.7\n",
       "F       341   373          25          22   7.3   5.9"
      ]
     },
     "execution_count": 137,
     "metadata": {},
     "output_type": "execute_result"
    }
   ],
   "source": [
    "# Conta aprovados por gênero e major\n",
    "Aprovados = df[df['Admission'] == 'Accepted'].groupby(['Major', 'Gender']).size().unstack(fill_value=0)\n",
    "\n",
    "# Atribui essas contagens ao DataFrame grouped\n",
    "grouped['F_Approved'] = Aprovados['F']\n",
    "grouped['M_Approved'] = Aprovados['M']\n",
    "\n",
    "\n",
    "grouped['F_%'] = round((grouped['F_Approved'] / grouped['F']) * 100, 1)\n",
    "grouped['M_%'] = round((grouped['M_Approved'] / grouped['M']) * 100, 1)\n",
    "\n",
    "print(\"Admissão por Departamento e Genero\")\n",
    "grouped"
   ]
  },
  {
   "cell_type": "markdown",
   "metadata": {},
   "source": [
    "<p style=\"color: yellow;\">7. Comparar as taxas de admissão agregadas e desagregadas por departamento.\n",
    "</br>\n",
    "8. Verificar a relação entre o número de candidatos e as taxas de admissão/rejeição por\n",
    "gênero e departamento.</p>"
   ]
  },
  {
   "cell_type": "code",
   "execution_count": 133,
   "metadata": {},
   "outputs": [
    {
     "name": "stdout",
     "output_type": "stream",
     "text": [
      "Desagregado por Gênero e Departamento:\n"
     ]
    },
    {
     "data": {
      "text/html": [
       "<div>\n",
       "<style scoped>\n",
       "    .dataframe tbody tr th:only-of-type {\n",
       "        vertical-align: middle;\n",
       "    }\n",
       "\n",
       "    .dataframe tbody tr th {\n",
       "        vertical-align: top;\n",
       "    }\n",
       "\n",
       "    .dataframe thead th {\n",
       "        text-align: right;\n",
       "    }\n",
       "</style>\n",
       "<table border=\"1\" class=\"dataframe\">\n",
       "  <thead>\n",
       "    <tr style=\"text-align: right;\">\n",
       "      <th></th>\n",
       "      <th>Admission</th>\n",
       "      <th>Accepted</th>\n",
       "      <th>Rejected</th>\n",
       "      <th>Total</th>\n",
       "      <th>Acceptance Rate (%)</th>\n",
       "    </tr>\n",
       "    <tr>\n",
       "      <th>Major</th>\n",
       "      <th>Gender</th>\n",
       "      <th></th>\n",
       "      <th></th>\n",
       "      <th></th>\n",
       "      <th></th>\n",
       "    </tr>\n",
       "  </thead>\n",
       "  <tbody>\n",
       "    <tr>\n",
       "      <th rowspan=\"2\" valign=\"top\">A</th>\n",
       "      <th>F</th>\n",
       "      <td>89</td>\n",
       "      <td>19</td>\n",
       "      <td>108</td>\n",
       "      <td>82.0</td>\n",
       "    </tr>\n",
       "    <tr>\n",
       "      <th>M</th>\n",
       "      <td>825</td>\n",
       "      <td>313</td>\n",
       "      <td>1138</td>\n",
       "      <td>72.0</td>\n",
       "    </tr>\n",
       "    <tr>\n",
       "      <th rowspan=\"2\" valign=\"top\">B</th>\n",
       "      <th>F</th>\n",
       "      <td>17</td>\n",
       "      <td>8</td>\n",
       "      <td>25</td>\n",
       "      <td>68.0</td>\n",
       "    </tr>\n",
       "    <tr>\n",
       "      <th>M</th>\n",
       "      <td>353</td>\n",
       "      <td>207</td>\n",
       "      <td>560</td>\n",
       "      <td>63.0</td>\n",
       "    </tr>\n",
       "    <tr>\n",
       "      <th rowspan=\"2\" valign=\"top\">C</th>\n",
       "      <th>F</th>\n",
       "      <td>201</td>\n",
       "      <td>392</td>\n",
       "      <td>593</td>\n",
       "      <td>34.0</td>\n",
       "    </tr>\n",
       "    <tr>\n",
       "      <th>M</th>\n",
       "      <td>120</td>\n",
       "      <td>205</td>\n",
       "      <td>325</td>\n",
       "      <td>37.0</td>\n",
       "    </tr>\n",
       "    <tr>\n",
       "      <th rowspan=\"2\" valign=\"top\">D</th>\n",
       "      <th>F</th>\n",
       "      <td>131</td>\n",
       "      <td>244</td>\n",
       "      <td>375</td>\n",
       "      <td>35.0</td>\n",
       "    </tr>\n",
       "    <tr>\n",
       "      <th>M</th>\n",
       "      <td>138</td>\n",
       "      <td>279</td>\n",
       "      <td>417</td>\n",
       "      <td>33.0</td>\n",
       "    </tr>\n",
       "    <tr>\n",
       "      <th rowspan=\"2\" valign=\"top\">E</th>\n",
       "      <th>F</th>\n",
       "      <td>94</td>\n",
       "      <td>299</td>\n",
       "      <td>393</td>\n",
       "      <td>24.0</td>\n",
       "    </tr>\n",
       "    <tr>\n",
       "      <th>M</th>\n",
       "      <td>53</td>\n",
       "      <td>138</td>\n",
       "      <td>191</td>\n",
       "      <td>28.0</td>\n",
       "    </tr>\n",
       "    <tr>\n",
       "      <th rowspan=\"2\" valign=\"top\">F</th>\n",
       "      <th>F</th>\n",
       "      <td>25</td>\n",
       "      <td>316</td>\n",
       "      <td>341</td>\n",
       "      <td>7.0</td>\n",
       "    </tr>\n",
       "    <tr>\n",
       "      <th>M</th>\n",
       "      <td>22</td>\n",
       "      <td>351</td>\n",
       "      <td>373</td>\n",
       "      <td>6.0</td>\n",
       "    </tr>\n",
       "  </tbody>\n",
       "</table>\n",
       "</div>"
      ],
      "text/plain": [
       "Admission     Accepted  Rejected  Total  Acceptance Rate (%)\n",
       "Major Gender                                                \n",
       "A     F             89        19    108                 82.0\n",
       "      M            825       313   1138                 72.0\n",
       "B     F             17         8     25                 68.0\n",
       "      M            353       207    560                 63.0\n",
       "C     F            201       392    593                 34.0\n",
       "      M            120       205    325                 37.0\n",
       "D     F            131       244    375                 35.0\n",
       "      M            138       279    417                 33.0\n",
       "E     F             94       299    393                 24.0\n",
       "      M             53       138    191                 28.0\n",
       "F     F             25       316    341                  7.0\n",
       "      M             22       351    373                  6.0"
      ]
     },
     "execution_count": 133,
     "metadata": {},
     "output_type": "execute_result"
    }
   ],
   "source": [
    "# Calcula as taxas de admissão desagregadas por gênero e departamento\n",
    "grouped_desagregado = df.groupby(['Major', 'Gender', 'Admission']).size().unstack(fill_value=0)\n",
    "grouped_desagregado['Total'] = grouped_desagregado['Accepted'] + grouped_desagregado['Rejected']\n",
    "grouped_desagregado['Acceptance Rate (%)'] = round((grouped_desagregado['Accepted'] / grouped_desagregado['Total']) * 100,)\n",
    "\n",
    "\n",
    "print(\"Desagregado por Gênero e Departamento:\")\n",
    "\n",
    "grouped_desagregado\n"
   ]
  },
  {
   "cell_type": "code",
   "execution_count": 134,
   "metadata": {},
   "outputs": [
    {
     "name": "stdout",
     "output_type": "stream",
     "text": [
      "Agregados por Departamento:\n"
     ]
    },
    {
     "data": {
      "text/html": [
       "<div>\n",
       "<style scoped>\n",
       "    .dataframe tbody tr th:only-of-type {\n",
       "        vertical-align: middle;\n",
       "    }\n",
       "\n",
       "    .dataframe tbody tr th {\n",
       "        vertical-align: top;\n",
       "    }\n",
       "\n",
       "    .dataframe thead th {\n",
       "        text-align: right;\n",
       "    }\n",
       "</style>\n",
       "<table border=\"1\" class=\"dataframe\">\n",
       "  <thead>\n",
       "    <tr style=\"text-align: right;\">\n",
       "      <th>Admission</th>\n",
       "      <th>Accepted</th>\n",
       "      <th>Rejected</th>\n",
       "      <th>Total</th>\n",
       "      <th>Acceptance Rate (%)</th>\n",
       "      <th>Rejection Rate (%)</th>\n",
       "    </tr>\n",
       "    <tr>\n",
       "      <th>Major</th>\n",
       "      <th></th>\n",
       "      <th></th>\n",
       "      <th></th>\n",
       "      <th></th>\n",
       "      <th></th>\n",
       "    </tr>\n",
       "  </thead>\n",
       "  <tbody>\n",
       "    <tr>\n",
       "      <th>A</th>\n",
       "      <td>914</td>\n",
       "      <td>332</td>\n",
       "      <td>1246</td>\n",
       "      <td>73.35</td>\n",
       "      <td>26.65</td>\n",
       "    </tr>\n",
       "    <tr>\n",
       "      <th>B</th>\n",
       "      <td>370</td>\n",
       "      <td>215</td>\n",
       "      <td>585</td>\n",
       "      <td>63.25</td>\n",
       "      <td>36.75</td>\n",
       "    </tr>\n",
       "    <tr>\n",
       "      <th>C</th>\n",
       "      <td>321</td>\n",
       "      <td>597</td>\n",
       "      <td>918</td>\n",
       "      <td>34.97</td>\n",
       "      <td>65.03</td>\n",
       "    </tr>\n",
       "    <tr>\n",
       "      <th>D</th>\n",
       "      <td>269</td>\n",
       "      <td>523</td>\n",
       "      <td>792</td>\n",
       "      <td>33.96</td>\n",
       "      <td>66.04</td>\n",
       "    </tr>\n",
       "    <tr>\n",
       "      <th>E</th>\n",
       "      <td>147</td>\n",
       "      <td>437</td>\n",
       "      <td>584</td>\n",
       "      <td>25.17</td>\n",
       "      <td>74.83</td>\n",
       "    </tr>\n",
       "    <tr>\n",
       "      <th>F</th>\n",
       "      <td>47</td>\n",
       "      <td>667</td>\n",
       "      <td>714</td>\n",
       "      <td>6.58</td>\n",
       "      <td>93.42</td>\n",
       "    </tr>\n",
       "  </tbody>\n",
       "</table>\n",
       "</div>"
      ],
      "text/plain": [
       "Admission  Accepted  Rejected  Total  Acceptance Rate (%)  Rejection Rate (%)\n",
       "Major                                                                        \n",
       "A               914       332   1246                73.35               26.65\n",
       "B               370       215    585                63.25               36.75\n",
       "C               321       597    918                34.97               65.03\n",
       "D               269       523    792                33.96               66.04\n",
       "E               147       437    584                25.17               74.83\n",
       "F                47       667    714                 6.58               93.42"
      ]
     },
     "execution_count": 134,
     "metadata": {},
     "output_type": "execute_result"
    }
   ],
   "source": [
    "#relação entre o número de candidatos e as taxas de admissão/rejeição por departamento.\n",
    "\n",
    "# agrupa por Adimissão/Categoria\n",
    "Relation = df.groupby(['Major', 'Admission']).size().unstack(fill_value=0)\n",
    "\n",
    "Relation['Total'] = Relation['Accepted'] + Relation['Rejected']\n",
    "\n",
    "# Calcula as taxas\n",
    "Relation['Acceptance Rate (%)'] = round((Relation['Accepted'] / Relation['Total']) * 100,2)\n",
    "Relation['Rejection Rate (%)'] = round((Relation['Rejected'] / Relation['Total']) * 100,2)\n",
    "\n",
    "print(\"Agregados por Departamento:\")\n",
    "Relation\n"
   ]
  },
  {
   "cell_type": "markdown",
   "metadata": {},
   "source": [
    "<p style=\"color: yellow;\">9. Comparar as taxas de admissão agregadas para homens e mulheres.</p>\n",
    "\n",
    "<i>Se removermos a categoria \"others\" temos os dados abaixo</i>"
   ]
  },
  {
   "cell_type": "code",
   "execution_count": 135,
   "metadata": {},
   "outputs": [
    {
     "name": "stdout",
     "output_type": "stream",
     "text": [
      "Gender\n",
      "F    30.35\n",
      "M    50.30\n",
      "dtype: float64\n"
     ]
    }
   ],
   "source": [
    "#total de aprovações por sexo\n",
    "total_por_sexo = df.groupby('Gender').size()\n",
    "\n",
    "#número de aprovações por sexo\n",
    "aprovados_por_sexo = df[df['Admission'] == 'Accepted'].groupby('Gender').size()\n",
    "\n",
    "#porcentagem de aprovação por sexo\n",
    "porcentagem_aprovacao_por_sexo = round((aprovados_por_sexo / total_por_sexo) * 100,2)\n",
    "print(porcentagem_aprovacao_por_sexo)\n",
    "\n"
   ]
  },
  {
   "cell_type": "markdown",
   "metadata": {},
   "source": [
    "<i>Cerca de 50 dos Homens inscritos nas Majors A, B, C, D e F foram aprovados.</i>"
   ]
  },
  {
   "cell_type": "markdown",
   "metadata": {},
   "source": [
    "<p style=\"color: yellow;\">10. Analisar como as taxas de admissão de homens e mulheres variam entre os departamentos</p>"
   ]
  },
  {
   "cell_type": "code",
   "execution_count": 138,
   "metadata": {},
   "outputs": [
    {
     "data": {
      "text/html": [
       "<div>\n",
       "<style scoped>\n",
       "    .dataframe tbody tr th:only-of-type {\n",
       "        vertical-align: middle;\n",
       "    }\n",
       "\n",
       "    .dataframe tbody tr th {\n",
       "        vertical-align: top;\n",
       "    }\n",
       "\n",
       "    .dataframe thead th {\n",
       "        text-align: right;\n",
       "    }\n",
       "</style>\n",
       "<table border=\"1\" class=\"dataframe\">\n",
       "  <thead>\n",
       "    <tr style=\"text-align: right;\">\n",
       "      <th>Gender</th>\n",
       "      <th>F</th>\n",
       "      <th>M</th>\n",
       "      <th>F_%</th>\n",
       "      <th>M_%</th>\n",
       "      <th>Delta</th>\n",
       "    </tr>\n",
       "    <tr>\n",
       "      <th>Major</th>\n",
       "      <th></th>\n",
       "      <th></th>\n",
       "      <th></th>\n",
       "      <th></th>\n",
       "      <th></th>\n",
       "    </tr>\n",
       "  </thead>\n",
       "  <tbody>\n",
       "    <tr>\n",
       "      <th>A</th>\n",
       "      <td>108</td>\n",
       "      <td>1138</td>\n",
       "      <td>82.4</td>\n",
       "      <td>72.5</td>\n",
       "      <td>9.9</td>\n",
       "    </tr>\n",
       "    <tr>\n",
       "      <th>B</th>\n",
       "      <td>25</td>\n",
       "      <td>560</td>\n",
       "      <td>68.0</td>\n",
       "      <td>63.0</td>\n",
       "      <td>5.0</td>\n",
       "    </tr>\n",
       "    <tr>\n",
       "      <th>C</th>\n",
       "      <td>593</td>\n",
       "      <td>325</td>\n",
       "      <td>33.9</td>\n",
       "      <td>36.9</td>\n",
       "      <td>-3.0</td>\n",
       "    </tr>\n",
       "    <tr>\n",
       "      <th>D</th>\n",
       "      <td>375</td>\n",
       "      <td>417</td>\n",
       "      <td>34.9</td>\n",
       "      <td>33.1</td>\n",
       "      <td>1.8</td>\n",
       "    </tr>\n",
       "    <tr>\n",
       "      <th>E</th>\n",
       "      <td>393</td>\n",
       "      <td>191</td>\n",
       "      <td>23.9</td>\n",
       "      <td>27.7</td>\n",
       "      <td>-3.8</td>\n",
       "    </tr>\n",
       "    <tr>\n",
       "      <th>F</th>\n",
       "      <td>341</td>\n",
       "      <td>373</td>\n",
       "      <td>7.3</td>\n",
       "      <td>5.9</td>\n",
       "      <td>1.4</td>\n",
       "    </tr>\n",
       "  </tbody>\n",
       "</table>\n",
       "</div>"
      ],
      "text/plain": [
       "Gender    F     M   F_%   M_%  Delta\n",
       "Major                               \n",
       "A       108  1138  82.4  72.5    9.9\n",
       "B        25   560  68.0  63.0    5.0\n",
       "C       593   325  33.9  36.9   -3.0\n",
       "D       375   417  34.9  33.1    1.8\n",
       "E       393   191  23.9  27.7   -3.8\n",
       "F       341   373   7.3   5.9    1.4"
      ]
     },
     "execution_count": 138,
     "metadata": {},
     "output_type": "execute_result"
    }
   ],
   "source": [
    "grouped_Edited = grouped.drop(columns=['F_Approved','M_Approved'])\n",
    "\n",
    "grouped_Edited['Delta'] = grouped_Edited['F_%'] - grouped_Edited['M_%']\n",
    "\n",
    "grouped_Edited"
   ]
  },
  {
   "cell_type": "markdown",
   "metadata": {},
   "source": [
    "<i>Analisando os dados acima é possível perceber que somente nos Majors C e E que os homens tiveram indice de aprovação maior do que as mulheres.</i>"
   ]
  },
  {
   "cell_type": "code",
   "execution_count": 114,
   "metadata": {},
   "outputs": [
    {
     "data": {
      "image/png": "[encoded data removed]",
      "text/plain": [
       "<Figure size 640x480 with 1 Axes>"
      ]
     },
     "metadata": {},
     "output_type": "display_data"
    }
   ],
   "source": [
    "# Plot the data\n",
    "plt.plot(grouped_Edited['Delta'], linestyle='dotted')\n",
    "\n",
    "# Add values on the plot with two decimal places\n",
    "for i, value in enumerate(grouped_Edited['Delta']):\n",
    "    plt.text(i, value, f\"{value:.2f}\", ha='center', va='bottom')\n",
    "\n",
    "plt.title('Taxa de admissão entre Mulheres e Homens (Delta = F-M) nos Cursos')\n",
    "plt.xlabel('Major')\n",
    "plt.ylabel('Delta')\n",
    "\n",
    "plt.axhline(y=0, color='red', linestyle='--', linewidth=1)\n",
    "\n",
    "# Show the plot\n",
    "plt.show()"
   ]
  },
  {
   "cell_type": "markdown",
   "metadata": {},
   "source": [
    "<p style=\"color: yellow;\">11. Identificar quais departamentos têm as maiores e menores taxas de rejeição.</p>"
   ]
  },
  {
   "cell_type": "code",
   "execution_count": 115,
   "metadata": {},
   "outputs": [
    {
     "name": "stdout",
     "output_type": "stream",
     "text": [
      "Taxa de reprovados\n",
      "Major\n",
      "A    26.65\n",
      "B    36.75\n",
      "C    65.03\n",
      "D    66.04\n",
      "E    74.83\n",
      "F    93.42\n",
      "dtype: float64\n",
      "\n",
      "Taxa de Aprovados\n",
      "Major\n",
      "A    73.35\n",
      "B    63.25\n",
      "C    34.97\n",
      "D    33.96\n",
      "E    25.17\n",
      "F     6.58\n",
      "dtype: float64\n"
     ]
    }
   ],
   "source": [
    "#Distribuição de candidatos inscritos por Categoria\n",
    "Inscricao = df.groupby('Major').size()\n",
    "Reprovados = df[df['Admission'] == 'Rejected'].groupby('Major').size()\n",
    "Aprovados =  df[df['Admission'] == 'Accepted'].groupby('Major').size()\n",
    "\n",
    "#Mostra o % de reprovação\n",
    "Reprovados_Result = round((Reprovados / Inscricao )*100,2)\n",
    "\n",
    "print(\"Taxa de reprovados\")\n",
    "print(Reprovados_Result)\n",
    "\n",
    "print('\\nTaxa de Aprovados')\n",
    "Aprovados_Result = round((Aprovados / Inscricao )*100,2)\n",
    "print(Aprovados_Result)"
   ]
  },
  {
   "cell_type": "code",
   "execution_count": 116,
   "metadata": {},
   "outputs": [
    {
     "data": {
      "image/png": "[encoded data removed]",
      "text/plain": [
       "<Figure size 1000x600 with 1 Axes>"
      ]
     },
     "metadata": {},
     "output_type": "display_data"
    }
   ],
   "source": [
    "Reprovados = Reprovados.reindex(Inscricao.index, fill_value=0)\n",
    "Aprovados = Aprovados.reindex(Inscricao.index, fill_value=0)\n",
    "\n",
    "# Calcula as porcentagens\n",
    "Reprovados_Percent = (Reprovados / Inscricao) * 100\n",
    "Aprovados_Percent = (Aprovados / Inscricao) * 100\n",
    "\n",
    "\n",
    "plt.figure(figsize=(10, 6))\n",
    "plt.bar(Inscricao.index, Aprovados_Percent, label='Aprovados', color='green')\n",
    "plt.bar(Inscricao.index, Reprovados_Percent, bottom=Aprovados_Percent, label='Reprovados', color='red')\n",
    "\n",
    "\n",
    "for i, (aprovado, reprovado) in enumerate(zip(Aprovados_Percent, Reprovados_Percent)):\n",
    "    total = aprovado + reprovado\n",
    "    plt.text(i, aprovado / 2, f'{aprovado:.1f}%', ha='center', va='center', color='white')\n",
    "    plt.text(i, aprovado + reprovado / 2, f'{reprovado:.1f}%', ha='center', va='center', color='white')\n",
    "\n",
    "plt.title('Distribuição Percentual de Candidatos por Categoria')\n",
    "plt.xlabel('Categoria de Curso')\n",
    "plt.ylabel('Percentual de Candidatos')\n",
    "plt.xticks(rotation=45)  \n",
    "plt.legend(title='Resultado da Admissão')\n",
    "\n",
    "\n",
    "plt.tight_layout()\n",
    "\n",
    "\n",
    "plt.show()"
   ]
  },
  {
   "cell_type": "markdown",
   "metadata": {},
   "source": [
    "<i>Com base nos dados acima, percebe-se que os A e B possuem menor indice de reprovação e os cursos C, D, E, F possuem um maior indice de reprovação.</i>"
   ]
  },
  {
   "cell_type": "markdown",
   "metadata": {},
   "source": [
    "<p style=\"color: yellow;\">12. Avaliar a proporção de inscrições feitas por homens e mulheres nos departamentos mais\n",
    "e menos competitivos. </p>"
   ]
  },
  {
   "cell_type": "code",
   "execution_count": 117,
   "metadata": {},
   "outputs": [
    {
     "name": "stdout",
     "output_type": "stream",
     "text": [
      "Admissão por Departamento\n"
     ]
    },
    {
     "data": {
      "text/html": [
       "<div>\n",
       "<style scoped>\n",
       "    .dataframe tbody tr th:only-of-type {\n",
       "        vertical-align: middle;\n",
       "    }\n",
       "\n",
       "    .dataframe tbody tr th {\n",
       "        vertical-align: top;\n",
       "    }\n",
       "\n",
       "    .dataframe thead th {\n",
       "        text-align: right;\n",
       "    }\n",
       "</style>\n",
       "<table border=\"1\" class=\"dataframe\">\n",
       "  <thead>\n",
       "    <tr style=\"text-align: right;\">\n",
       "      <th>Gender</th>\n",
       "      <th>F</th>\n",
       "      <th>M</th>\n",
       "      <th>Inscritos_F</th>\n",
       "      <th>Inscritos_M</th>\n",
       "    </tr>\n",
       "    <tr>\n",
       "      <th>Major</th>\n",
       "      <th></th>\n",
       "      <th></th>\n",
       "      <th></th>\n",
       "      <th></th>\n",
       "    </tr>\n",
       "  </thead>\n",
       "  <tbody>\n",
       "    <tr>\n",
       "      <th>A</th>\n",
       "      <td>108</td>\n",
       "      <td>1138</td>\n",
       "      <td>8.67</td>\n",
       "      <td>91.33</td>\n",
       "    </tr>\n",
       "    <tr>\n",
       "      <th>B</th>\n",
       "      <td>25</td>\n",
       "      <td>560</td>\n",
       "      <td>4.27</td>\n",
       "      <td>95.73</td>\n",
       "    </tr>\n",
       "    <tr>\n",
       "      <th>C</th>\n",
       "      <td>593</td>\n",
       "      <td>325</td>\n",
       "      <td>64.60</td>\n",
       "      <td>35.40</td>\n",
       "    </tr>\n",
       "    <tr>\n",
       "      <th>D</th>\n",
       "      <td>375</td>\n",
       "      <td>417</td>\n",
       "      <td>47.35</td>\n",
       "      <td>52.65</td>\n",
       "    </tr>\n",
       "    <tr>\n",
       "      <th>E</th>\n",
       "      <td>393</td>\n",
       "      <td>191</td>\n",
       "      <td>67.29</td>\n",
       "      <td>32.71</td>\n",
       "    </tr>\n",
       "    <tr>\n",
       "      <th>F</th>\n",
       "      <td>341</td>\n",
       "      <td>373</td>\n",
       "      <td>47.76</td>\n",
       "      <td>52.24</td>\n",
       "    </tr>\n",
       "  </tbody>\n",
       "</table>\n",
       "</div>"
      ],
      "text/plain": [
       "Gender    F     M  Inscritos_F  Inscritos_M\n",
       "Major                                      \n",
       "A       108  1138         8.67        91.33\n",
       "B        25   560         4.27        95.73\n",
       "C       593   325        64.60        35.40\n",
       "D       375   417        47.35        52.65\n",
       "E       393   191        67.29        32.71\n",
       "F       341   373        47.76        52.24"
      ]
     },
     "execution_count": 117,
     "metadata": {},
     "output_type": "execute_result"
    }
   ],
   "source": [
    "#Distribuição por aprovados/reprovados por departamento\n",
    "Admission_12 = df.groupby(['Major','Gender']).size().unstack(fill_value=0)\n",
    "\n",
    "Admission_12['Inscritos_F'] = round(Admission_12['F']/(Admission_12['F'] + Admission_12['M'])*100,2)\n",
    "Admission_12['Inscritos_M'] = round(Admission_12['M']/(Admission_12['F'] + Admission_12['M'])*100,2)\n",
    "\n",
    "print(\"Admissão por Departamento\")\n",
    "\n",
    "Admission_12"
   ]
  },
  {
   "cell_type": "markdown",
   "metadata": {},
   "source": [
    "<i>Baseado nos dados acima é possível notar que os homens tiveram a tendência/maior proporção de se inscrever nos cursos mais fáceis A e B, o único curso mais difícil que teve uma maior proporção masculina foi o curso D\n",
    "<br>\n",
    "\n",
    "No caso das mulhres a grande proporção de inscrições estão nos cursos C, E e F, onde o E e F são considerados os mais difíceis\n",
    "\n",
    "\n",
    "</i>"
   ]
  },
  {
   "cell_type": "markdown",
   "metadata": {},
   "source": [
    "<p style=\"color: yellow;\">13. Comparar as taxas de admissão gerais com as taxas de admissão por departamento.<p>"
   ]
  },
  {
   "cell_type": "code",
   "execution_count": 118,
   "metadata": {},
   "outputs": [
    {
     "name": "stdout",
     "output_type": "stream",
     "text": [
      "\n",
      "Percentual de aprovação global 42.74 %\n",
      "\n",
      "Taxa de admissão por departamento\n",
      "\n",
      "Gender    F     M  F_Approved  M_Approved   F_%   M_%  % Aprovados  \\\n",
      "Major                                                                \n",
      "A       108  1138          89         825  82.4  72.5        73.35   \n",
      "B        25   560          17         353  68.0  63.0        63.25   \n",
      "C       593   325         201         120  33.9  36.9        34.97   \n",
      "D       375   417         131         138  34.9  33.1        33.96   \n",
      "E       393   191          94          53  23.9  27.7        25.17   \n",
      "F       341   373          25          22   7.3   5.9         6.58   \n",
      "\n",
      "Gender  Delta_Glonal  \n",
      "Major                 \n",
      "A              30.61  \n",
      "B              20.51  \n",
      "C              -7.77  \n",
      "D              -8.78  \n",
      "E             -17.57  \n",
      "F             -36.16  \n"
     ]
    }
   ],
   "source": [
    "#Calculo da taxa de aprovação global\n",
    "\n",
    "Accepted_general = df[df['Admission'] == 'Accepted'].shape[0]\n",
    "Perc_Acepted_General = round((Accepted_general / df.shape[0])*100,2)\n",
    "print(f\"\\nPercentual de aprovação global\", Perc_Acepted_General, \"%\")\n",
    "\n",
    "\n",
    "\n",
    "#aprovados por gênero e major\n",
    "Aprovados_13 = df[df['Admission'] == 'Accepted'].groupby(['Major', 'Gender']).size().unstack(fill_value=0)\n",
    "\n",
    "# Atribui essas contagens ao DataFrame grouped\n",
    "grouped['F_Approved'] = Aprovados_13['F']\n",
    "\n",
    "grouped['M_%'] = round((grouped['M_Approved'] / grouped['M']) * 100, 1)\n",
    "grouped['F_%'] = round((grouped['F_Approved'] / grouped['F']) * 100, 1)\n",
    "\n",
    "\n",
    "grouped['% Aprovados'] = Aprovados_Result\n",
    "grouped['Delta_Glonal'] = Aprovados_Result - Perc_Acepted_General\n",
    "\n",
    "print('\\nTaxa de admissão por departamento\\n')\n",
    "print(grouped)\n",
    "\n",
    "\n"
   ]
  },
  {
   "cell_type": "code",
   "execution_count": 119,
   "metadata": {},
   "outputs": [
    {
     "data": {
      "image/png": "[encoded data removed]",
      "text/plain": [
       "<Figure size 640x480 with 1 Axes>"
      ]
     },
     "metadata": {},
     "output_type": "display_data"
    }
   ],
   "source": [
    "\n",
    "plt.plot(grouped['Delta_Glonal'], linestyle='dotted')\n",
    "\n",
    "\n",
    "for i, value in enumerate(grouped['Delta_Glonal']):\n",
    "    plt.text(i, value, f\"{value:.2f}\", ha='center', va='bottom')\n",
    "\n",
    "plt.title('Taxa de admissão por curso comparado com a taxa de aprovação Global')\n",
    "plt.xlabel('Major')\n",
    "plt.ylabel('Delta')\n",
    "\n",
    "plt.axhline(y=0, color='red', linestyle='--', linewidth=1)\n",
    "\n",
    "\n",
    "plt.show()"
   ]
  },
  {
   "cell_type": "markdown",
   "metadata": {},
   "source": [
    "<i> Se compararmos com a taxa de aprovação global, os cursos A e B possuiram maior indice de aprovação, mas se compararmos com os restantes dos cursos todos tiveram valores inferiores a taxa de aprovação global."
   ]
  },
  {
   "cell_type": "markdown",
   "metadata": {},
   "source": [
    "\n",
    "<p style=\"color: yellow;\">14. Verificar se existem preferências de departamentos por gênero que podem influenciar os\n",
    "resultados observados.<p>\n",
    "\n"
   ]
  },
  {
   "cell_type": "markdown",
   "metadata": {},
   "source": [
    "\n",
    "Verificação do percentual dos aprovados nos cursos:\n",
    "\n",
    "Mais fáceis: A, B, C\n",
    "\n",
    "Mais difíceis: D, E, F"
   ]
  },
  {
   "cell_type": "code",
   "execution_count": null,
   "metadata": {},
   "outputs": [
    {
     "name": "stdout",
     "output_type": "stream",
     "text": [
      "Quantidade de Mulheres inscritas nas matérias Fáceis: 726\n",
      "Quantidade de Homens inscritos nas matérias Fáceis: 2023\n",
      "Quantidade de Mulheres inscritas nas matérias Difíceis: 1109\n",
      "Quantidade de Homens inscritos nas matérias Difíceis: 981\n"
     ]
    }
   ],
   "source": [
    "#Agrupamento pela quantidade de inscrição nas matérias fáceis e difíceis\n",
    "grouped.reset_index(inplace=True)\n",
    "grouped.rename(columns={'index': 'Major'}, inplace=True)\n",
    "\n",
    "\n",
    "faceis = grouped[grouped['Major'].isin(['A', 'B', 'C'])]\n",
    "Faceis_F_Insc = faceis['F'].sum()\n",
    "Faceis_M_Insc = faceis['M'].sum()\n",
    "\n",
    "dif = grouped[grouped['Major'].isin(['D', 'E', 'F'])]\n",
    "Dif_F_Insc = dif['F'].sum()\n",
    "Dif_M_Insc = dif['M'].sum()\n",
    "\n",
    "print(f'Quantidade de Mulheres inscritas nas matérias Fáceis: {Faceis_F_Insc}')\n",
    "print(f'Quantidade de Homens inscritos nas matérias Fáceis: {Faceis_M_Insc}')\n",
    "print(f'Quantidade de Mulheres inscritas nas matérias Difíceis: {Dif_F_Insc}')\n",
    "print(f'Quantidade de Homens inscritos nas matérias Difíceis: {Dif_M_Insc}')"
   ]
  },
  {
   "cell_type": "code",
   "execution_count": 27,
   "metadata": {},
   "outputs": [
    {
     "name": "stdout",
     "output_type": "stream",
     "text": [
      "Quantidade de Mulheres aprovadas nas matérias Fáceis: 307\n",
      "Quantidade de Homens   aprovados nas matérias Fáceis: 1298\n",
      "Quantidade de Mulheres aprovadas nas matérias Difíceis: 250\n",
      "Quantidade de Homens   aprovados nas matérias Difíceis: 213\n"
     ]
    }
   ],
   "source": [
    "# Filtrar as linhas onde Major é A, B ou C para aprovações\n",
    "faceis = grouped[grouped['Major'].isin(['A', 'B', 'C'])]\n",
    "Faceis_F_Approved = faceis['F_Approved'].sum()\n",
    "Faceis_M_Approved = faceis['M_Approved'].sum()\n",
    "\n",
    "# Filtrar as linhas onde Major é D, E ou F para aprovações\n",
    "dif = grouped[grouped['Major'].isin(['D', 'E', 'F'])]\n",
    "Dif_F_Approved = dif['F_Approved'].sum()\n",
    "Dif_M_Approved = dif['M_Approved'].sum()\n",
    "\n",
    "print(f'Quantidade de Mulheres aprovadas nas matérias Fáceis: {Faceis_F_Approved}')\n",
    "print(f'Quantidade de Homens   aprovados nas matérias Fáceis: {Faceis_M_Approved}')\n",
    "\n",
    "print(f'Quantidade de Mulheres aprovadas nas matérias Difíceis: {Dif_F_Approved}')\n",
    "print(f'Quantidade de Homens   aprovados nas matérias Difíceis: {Dif_M_Approved}')"
   ]
  },
  {
   "cell_type": "code",
   "execution_count": 28,
   "metadata": {},
   "outputs": [
    {
     "name": "stdout",
     "output_type": "stream",
     "text": [
      "% de Homens que foram aprovados nas matérias - FÁCEIS 64.0 %\n",
      "% de Mulheres que foram aprovados nas matérias - FÁCEIS 42.0 %\n"
     ]
    }
   ],
   "source": [
    "#% De aprovações - Fáceis\n",
    "Perc_aceis_F_Approved = round(Faceis_F_Approved / Faceis_F_Insc,2)*100\n",
    "Perc_aceis_M_Approved = round(Faceis_M_Approved / Faceis_M_Insc,2)*100\n",
    "\n",
    "print(f'% de Homens que foram aprovados nas matérias - FÁCEIS', Perc_aceis_M_Approved, '%')\n",
    "print(f'% de Mulheres que foram aprovados nas matérias - FÁCEIS', Perc_aceis_F_Approved, '%')"
   ]
  },
  {
   "cell_type": "code",
   "execution_count": 29,
   "metadata": {},
   "outputs": [
    {
     "name": "stdout",
     "output_type": "stream",
     "text": [
      "% de Homens que foram aprovados nas matérias - Difíceis 22.0 %\n",
      "% de Mulheres que foram aprovados nas matérias - Dificeis 23.0 %\n"
     ]
    }
   ],
   "source": [
    "#% De aprovações - Dificeis\n",
    "Perc_Dif_F_Approved = round(Dif_F_Approved / Dif_F_Insc,2)*100\n",
    "Perc_Dif_M_Approved = round(Dif_M_Approved / Dif_M_Insc,2)*100\n",
    "\n",
    "print(f'% de Homens que foram aprovados nas matérias - Difíceis', Perc_Dif_M_Approved, '%')\n",
    "print(f'% de Mulheres que foram aprovados nas matérias - Dificeis', Perc_Dif_F_Approved, '%')"
   ]
  },
  {
   "cell_type": "code",
   "execution_count": 31,
   "metadata": {},
   "outputs": [
    {
     "name": "stdout",
     "output_type": "stream",
     "text": [
      "  Gênero  Fáceis  Difíceis % de Inscrição Fáceis % de Aprovação Fáceis  \\\n",
      "0      F     726      1109                 39.56                  42.0   \n",
      "1      M    2023       981                 67.34                  64.0   \n",
      "2  Total    2749      2090                                               \n",
      "\n",
      "  % de Inscrição Difíceis % de Aprovação Difíceis  \n",
      "0                   60.44                    23.0  \n",
      "1                   32.66                    22.0  \n",
      "2                                                  \n"
     ]
    }
   ],
   "source": [
    "#Sumarizando os dados:\n",
    "\n",
    "# Tot inscrição\n",
    "Total_F_Insc = Faceis_F_Insc + Dif_F_Insc\n",
    "Total_M_Insc = Faceis_M_Insc + Dif_M_Insc\n",
    "\n",
    "# Percent inscrição\n",
    "Perc_Faceis_F_Insc = round((Faceis_F_Insc / Total_F_Insc) * 100,2)\n",
    "Perc_Faceis_M_Insc = round((Faceis_M_Insc / Total_M_Insc) * 100,2)\n",
    "Perc_Dif_F_Insc = round((Dif_F_Insc / Total_F_Insc) * 100,2)\n",
    "Perc_Dif_M_Insc = round((Dif_M_Insc / Total_M_Insc) * 100,2)\n",
    "\n",
    "\n",
    "#Totais\n",
    "\n",
    "Tot_Faceis = Faceis_F_Insc + Faceis_M_Insc\n",
    "Tot_Dif = Dif_F_Insc + Dif_M_Insc\n",
    "\n",
    "# Criando a tabela\n",
    "DadosConsolidados = {\n",
    "    'Gênero': ['F', 'M', 'Total'],\n",
    "    'Fáceis': [Faceis_F_Insc, Faceis_M_Insc, Tot_Faceis],\n",
    "    'Difíceis': [Dif_F_Insc, Dif_M_Insc, Tot_Dif],\n",
    "    '% de Inscrição Fáceis': [Perc_Faceis_F_Insc, Perc_Faceis_M_Insc, ''],\n",
    "    '% de Aprovação Fáceis': [Perc_aceis_F_Approved, Perc_aceis_M_Approved, ''],\n",
    "    '% de Inscrição Difíceis': [Perc_Dif_F_Insc, Perc_Dif_M_Insc, ''],\n",
    "    '% de Aprovação Difíceis': [Perc_Dif_F_Approved, Perc_Dif_M_Approved, '']\n",
    "}\n",
    "\n",
    "# Criando o DataFrame\n",
    "df_DadosConsolidados = pd.DataFrame(DadosConsolidados)\n",
    "\n",
    "# Mostrando a tabela\n",
    "print(df_DadosConsolidados)\n"
   ]
  },
  {
   "cell_type": "markdown",
   "metadata": {},
   "source": [
    "<i> Nos dados acima é possivel ver que o gênero masculino possui preferência para as matérias mais fáceis, onde do total inscrito 67,34% é de homens, onde as muleres tiveram mais de 60% isncritas nas difíceis."
   ]
  },
  {
   "cell_type": "markdown",
   "metadata": {},
   "source": [
    "\n",
    "<p style=\"color: yellow;\">1. Há departamentos ou gêneros que apresentam taxas de admissão ou rejeição\n",
    "desproporcionalmente altas ou baixas?</p>\n",
    "\n",
    "<i>Conforme mostrado na descrição do item 11, existe uma tendência maior das mulheres se inscreverem nos departamento mais difíceis, rejetiando os departamentos mais fáceis.</i>"
   ]
  },
  {
   "cell_type": "markdown",
   "metadata": {},
   "source": [
    "\n",
    "<p style=\"color: yellow;\">2. Há equilíbrio na distribuição de gêneros nos departamentos? <br>\n",
    "3. Como os padrões de admissão diferem entre os departamentos e gêneros?</p>\n",
    "\n",
    "<i>Não Existe equilibrio, onde 67% dos homens se inscreveram nas disciplinas consideradas mais fáceis e ja as Mulheres tiveram seu maior percentual de inscrição nas matérias mais difíces</i>"
   ]
  },
  {
   "cell_type": "markdown",
   "metadata": {},
   "source": [
    "\n",
    "<p style=\"color: yellow;\">4. Existe um viés aparente contra algum gênero?</p>\n",
    "\n",
    "<i>Quando foi feito a primeira a analise, levando em consideração somente os números absolutos, é fácil de identificar o viés contra o genero feminino, pois como os homens tiveram maior número de inscrição e como consequência um maior número de aprovação, quando fazemos uma análise superficial tende-se a identifiar uma maior taxa de aprovação pelo gênero masculino. </i>"
   ]
  },
  {
   "cell_type": "markdown",
   "metadata": {},
   "source": [
    "\n",
    "<p style=\"color: yellow;\">5. Há departamentos mais favoráveis a um gênero específico?</p>\n",
    "\n",
    "<i>Sim, onde o gênero masculino tem tendência de escolher as matérias consideradas mais fáceis e o gênero feminino tem tendência de escolha das matérias mais difícies </i>"
   ]
  },
  {
   "cell_type": "markdown",
   "metadata": {},
   "source": [
    "\n",
    "<p style=\"color: yellow;\">6. Quais departamentos são mais competitivos e como isso afeta os gêneros?</p>\n",
    "\n",
    "<i>Considera-se os mais competitivos, os departamentos que tiveram menor número de aprovação, por serem considerados \"Mais difíceis\". </i>\n",
    "\n",
    "\n"
   ]
  },
  {
   "cell_type": "markdown",
   "metadata": {},
   "source": [
    "\n",
    "<p style=\"color: yellow;\">7. Como as conclusões mudam ao desagregar os dados por departamento?</p>\n",
    "\n",
    "<i>Sem a desagregação dos dados por departamentos a análise pode apresentar conclusões erroneas, mas quando a análise é feita mais profundamente e detalhadamente é possível identificar tendências dos grupos que não poderiam ser analisadas sem essa segregação.  </i>\n",
    "\n",
    "\n"
   ]
  },
  {
   "cell_type": "markdown",
   "metadata": {},
   "source": [
    " <p style=\"color: yellow;\">Analise dos dados<p>\n",
    "\n",
    "<Strong> Baseado nos dados apresentados acima, se analisarmos os números globais  (Excluindo os cursos \"Others\"), podemos afirmar que:</Strong>\n",
    "\n",
    "<li> Somente 42% do total inscritos foram aprovados </li>\n",
    "<li> Somente 11% do total inscrito e Aprovados eram mulheres, onde 31% dos inscritos aprovados eram Homens </li>\n",
    "\n",
    "<Strong>Se levarmos em consideração somente os valores mostrados acima, temos tendência a concluir que os Homes são mais inteligentes e tiveram uma maior taxa de aprovação, mas quando extratificamos os dados conseguimos identificar alguns pontos que podem mudar essa conclusão:</Strong>\n",
    "\n",
    "<li> tivemos 1169 Homens a mais que mulheres </li>\n",
    "<li> Analisando a taxa de aprovação por gênero, 30% das mulheres inscritas foram Aprovadas e 50% dos Homens foram aprovados </li>\n",
    "\n",
    "<Strong>Ainda analisando esses dados pode-se concluir que temos mais Homens aprovados do que Mulheres, tendo a mesma conclusão, onde \"os Homens seriam mais inteligentes que as mulheres\". </Strong>\n",
    "\n",
    "<Strong>Quando olhamos o % dos grupos inscritos nos grupos e classificando pelo nível de dificuldade, onde as mais fáceis são A, B, C e as mais difíceissão D, E, F., podemos identificar que as mulheres tiveram praticamente o dobro de inscrição nas matérias difíceis do que os homens</Strong>\n",
    "\n",
    "<li>Quantidade de Mulheres inscritas nas matérias Fáceis: 726 - 39.56% </li>\n",
    "<li>Quantidade de Homens inscritos nas matérias Fáceis: 2023 - 67.34%</li>\n",
    "<li>Quantidade de Mulheres inscritas nas matérias Difíceis: 1109 - 60.43%</li>\n",
    "<li>Quantidade de Homens inscritos nas matérias Difíceis: 981 - 32.65%</li>\n",
    "\n",
    "<Strong>Quando falamos em taxa de aprovação, a taxa de aprovação das mulheres nas matérias difíceis é praticamente o drobro dos Homens.</Strong>\n",
    "\n",
    "\n",
    "<li> Quantidade de Mulheres aprovadas nas matérias Fáceis: 307 - 16.73%</li>\n",
    "<li>Quantidade de Homens   aprovados nas matérias Fáceis: 1298 - 43.20%</li>\n",
    "<li>Quantidade de Mulheres aprovadas nas matérias Difíceis: 250 - 13.62%</li>\n",
    "<li>Quantidade de Homens   aprovados nas matérias Difíceis: 213 - 7.09%</li>\n",
    "\n",
    "\n",
    "\n",
    " <p style=\"color: yellow;\"> Conclusão<p>\n",
    "\n",
    " Dados podem ser apresentados de várias formas e dependendo da forma que for apresentado pode apresentar conclusões erroneas, principalmente quando é analisado de uma forma superficial e generalista.\n",
    "\n",
    " A analise acima consegue validar o \"Paradoxo de Simpson\", onde analisando de uma forma superficial pode-se concluir que os \"Homens\" são mais inteligentes, mas quando analisamos por grupos chegamos a outra conclusão, onde a taxa de aprovação e inscrição das mulheres nos cursos mais difíceis são quase o dobro se comparado com os dos Homens."
   ]
  },
  {
   "cell_type": "code",
   "execution_count": null,
   "metadata": {},
   "outputs": [],
   "source": []
  },
  {
   "cell_type": "markdown",
   "metadata": {},
   "source": []
  }
 ],
 "metadata": {
  "kernelspec": {
   "display_name": "MBA",
   "language": "python",
   "name": "python3"
  },
  "language_info": {
   "codemirror_mode": {
    "name": "ipython",
    "version": 3
   },
   "file_extension": ".py",
   "mimetype": "text/x-python",
   "name": "python",
   "nbconvert_exporter": "python",
   "pygments_lexer": "ipython3",
   "version": "3.11.8"
  }
 },
 "nbformat": 4,
 "nbformat_minor": 2
}
