{
 "cells": [
  {
   "cell_type": "markdown",
   "metadata": {},
   "source": [
    "Preprocessamento dos dados\n",
    "\n",
    "1. Carregar o dataset;\n",
    "2. Verificar suas informações gerais;\n",
    "3. Verificar dados ausentes;\n",
    "4. Verificar e remover outliers; <br>\n",
    "    <p>Como os dados são categóricos não será possivel analisar a existência de outliers</p>\n",
    "\n",
    "5. Verificar e corrigir inconsistências;\n",
    "6. Criar novas variáveis derivadas das existentes;\n",
    "7. Converter tipos de dados;\n",
    "8. Salvar o dataset pré-processado."
   ]
  },
  {
   "cell_type": "markdown",
   "metadata": {},
   "source": [
    "\n",
    "<p style=\"color: yellow;\">1. Carregar o dataset;\n",
    "2. Verificar suas informações gerais;<p>"
   ]
  },
  {
   "cell_type": "code",
   "execution_count": 23,
   "metadata": {},
   "outputs": [
    {
     "data": {
      "text/html": [
       "<div>\n",
       "<style scoped>\n",
       "    .dataframe tbody tr th:only-of-type {\n",
       "        vertical-align: middle;\n",
       "    }\n",
       "\n",
       "    .dataframe tbody tr th {\n",
       "        vertical-align: top;\n",
       "    }\n",
       "\n",
       "    .dataframe thead th {\n",
       "        text-align: right;\n",
       "    }\n",
       "</style>\n",
       "<table border=\"1\" class=\"dataframe\">\n",
       "  <thead>\n",
       "    <tr style=\"text-align: right;\">\n",
       "      <th></th>\n",
       "      <th>Year</th>\n",
       "      <th>Major</th>\n",
       "      <th>Gender</th>\n",
       "      <th>Admission</th>\n",
       "    </tr>\n",
       "  </thead>\n",
       "  <tbody>\n",
       "    <tr>\n",
       "      <th>0</th>\n",
       "      <td>1973</td>\n",
       "      <td>C</td>\n",
       "      <td>F</td>\n",
       "      <td>Rejected</td>\n",
       "    </tr>\n",
       "    <tr>\n",
       "      <th>1</th>\n",
       "      <td>1973</td>\n",
       "      <td>B</td>\n",
       "      <td>M</td>\n",
       "      <td>Accepted</td>\n",
       "    </tr>\n",
       "    <tr>\n",
       "      <th>2</th>\n",
       "      <td>1973</td>\n",
       "      <td>Other</td>\n",
       "      <td>F</td>\n",
       "      <td>Accepted</td>\n",
       "    </tr>\n",
       "    <tr>\n",
       "      <th>3</th>\n",
       "      <td>1973</td>\n",
       "      <td>Other</td>\n",
       "      <td>M</td>\n",
       "      <td>Accepted</td>\n",
       "    </tr>\n",
       "    <tr>\n",
       "      <th>4</th>\n",
       "      <td>1973</td>\n",
       "      <td>Other</td>\n",
       "      <td>M</td>\n",
       "      <td>Rejected</td>\n",
       "    </tr>\n",
       "  </tbody>\n",
       "</table>\n",
       "</div>"
      ],
      "text/plain": [
       "   Year  Major Gender Admission\n",
       "0  1973      C      F  Rejected\n",
       "1  1973      B      M  Accepted\n",
       "2  1973  Other      F  Accepted\n",
       "3  1973  Other      M  Accepted\n",
       "4  1973  Other      M  Rejected"
      ]
     },
     "execution_count": 23,
     "metadata": {},
     "output_type": "execute_result"
    }
   ],
   "source": [
    "import pandas as pd\n",
    "df_api = pd.read_csv(\"https://waf.cs.illinois.edu/discovery/berkeley.csv\")\n",
    "\n",
    "# Exibir das cinco primeiras linhas\n",
    "df_api.head()"
   ]
  },
  {
   "cell_type": "code",
   "execution_count": 24,
   "metadata": {},
   "outputs": [
    {
     "data": {
      "text/plain": [
       "Year         0\n",
       "Major        0\n",
       "Gender       0\n",
       "Admission    0\n",
       "dtype: int64"
      ]
     },
     "execution_count": 24,
     "metadata": {},
     "output_type": "execute_result"
    }
   ],
   "source": [
    "#verificação de valores auxentes:\n",
    "da = df_api.isnull().sum()\n",
    "da"
   ]
  },
  {
   "cell_type": "code",
   "execution_count": 25,
   "metadata": {},
   "outputs": [
    {
     "data": {
      "text/plain": [
       "Gender\n",
       "M    8442\n",
       "F    4321\n",
       "Name: count, dtype: int64"
      ]
     },
     "execution_count": 25,
     "metadata": {},
     "output_type": "execute_result"
    }
   ],
   "source": [
    "# Distribuição de Sexo entre os aplicantes\n",
    "df_api['Gender'].value_counts()"
   ]
  },
  {
   "cell_type": "code",
   "execution_count": 26,
   "metadata": {},
   "outputs": [
    {
     "name": "stdout",
     "output_type": "stream",
     "text": [
      "Gender\n",
      "F    34.58\n",
      "M    44.28\n",
      "dtype: float64\n"
     ]
    }
   ],
   "source": [
    "# Contar o total de aprovações por sexo\n",
    "total_por_sexo = df_api.groupby('Gender').size()\n",
    "\n",
    "# Contar o número de aprovações por sexo\n",
    "\n",
    "aprovados_por_sexo = df_api[df_api['Admission'] == 'Accepted'].groupby('Gender').size()\n",
    "\n",
    "# Calcular a porcentagem de aprovação por sexo\n",
    "porcentagem_aprovacao_por_sexo = round((aprovados_por_sexo / total_por_sexo) * 100,2)\n",
    "\n",
    "print(porcentagem_aprovacao_por_sexo)\n"
   ]
  },
  {
   "cell_type": "code",
   "execution_count": 27,
   "metadata": {},
   "outputs": [
    {
     "name": "stdout",
     "output_type": "stream",
     "text": [
      "\n",
      "Total De inscritos por gênero\n",
      "\n",
      "Gender\n",
      "F    4321\n",
      "M    8442\n",
      "dtype: int64\n",
      "\n",
      "Total De aprovados por gênero\n",
      "\n",
      "Gender\n",
      "F    1494\n",
      "M    3738\n",
      "dtype: int64\n",
      "\n",
      "Percentual de aprovados por gênero\n",
      "\n",
      "Gender\n",
      "F    34.575330\n",
      "M    44.278607\n",
      "dtype: float64\n"
     ]
    }
   ],
   "source": [
    "\n",
    "total_por_sexo = df_api.groupby('Gender').size()\n",
    "print(\"\\nTotal De inscritos por gênero\\n\")\n",
    "print(total_por_sexo)\n",
    "\n",
    "aprovados_por_sexo = df_api[df_api['Admission'] == 'Accepted'].groupby('Gender').size()\n",
    "print(\"\\nTotal De aprovados por gênero\\n\")\n",
    "print(aprovados_por_sexo)\n",
    "\n",
    "\n",
    "porcentagem_aprovacao_por_sexo = (aprovados_por_sexo / total_por_sexo) * 100\n",
    "print(\"\\nPercentual de aprovados por gênero\\n\")\n",
    "print(porcentagem_aprovacao_por_sexo)"
   ]
  },
  {
   "cell_type": "code",
   "execution_count": 28,
   "metadata": {},
   "outputs": [
    {
     "data": {
      "text/plain": [
       "Admission\n",
       "Rejected    7531\n",
       "Accepted    5232\n",
       "Name: count, dtype: int64"
      ]
     },
     "execution_count": 28,
     "metadata": {},
     "output_type": "execute_result"
    }
   ],
   "source": [
    "# Distribuição de Sexo entre os aplicantes\n",
    "df_api['Admission'].value_counts()\n"
   ]
  },
  {
   "cell_type": "code",
   "execution_count": 29,
   "metadata": {},
   "outputs": [
    {
     "data": {
      "text/plain": [
       "Major\n",
       "Other    7924\n",
       "A        1246\n",
       "C         918\n",
       "D         792\n",
       "F         714\n",
       "B         585\n",
       "E         584\n",
       "Name: count, dtype: int64"
      ]
     },
     "execution_count": 29,
     "metadata": {},
     "output_type": "execute_result"
    }
   ],
   "source": [
    "# Distribuição entre os cursos\n",
    "df_api['Major'].value_counts()"
   ]
  },
  {
   "cell_type": "markdown",
   "metadata": {},
   "source": [
    "<p style=\"color: yellow;\">3 - Verificar dados ausentes;<p>"
   ]
  },
  {
   "cell_type": "code",
   "execution_count": 30,
   "metadata": {},
   "outputs": [
    {
     "name": "stdout",
     "output_type": "stream",
     "text": [
      "<class 'pandas.core.frame.DataFrame'>\n",
      "RangeIndex: 12763 entries, 0 to 12762\n",
      "Data columns (total 4 columns):\n",
      " #   Column     Non-Null Count  Dtype \n",
      "---  ------     --------------  ----- \n",
      " 0   Year       12763 non-null  int64 \n",
      " 1   Major      12763 non-null  object\n",
      " 2   Gender     12763 non-null  object\n",
      " 3   Admission  12763 non-null  object\n",
      "dtypes: int64(1), object(3)\n",
      "memory usage: 399.0+ KB\n"
     ]
    }
   ],
   "source": [
    "# info gerais do dataset\n",
    "df_api.info()"
   ]
  },
  {
   "cell_type": "markdown",
   "metadata": {},
   "source": [
    "<p style=\"color: yellow;\">4. Verificar e remover outliers; <br><p>\n",
    "    <p><i>Como os dados são categóricos não será possivel analisar a existência de outliers</i></p>\n",
    "<p style=\"color: yellow;\">\n",
    "5. Verificar e corrigir inconsistências;<p>\n",
    "    <p><i>Não foi identificado inconsistências nos dados</i></p><br>\n",
    "<p style=\"color: yellow;\">\n",
    "6. Criar novas variáveis derivadas das existentes;<br><br>\n",
    "7. Converter tipos de dados;<p>\n"
   ]
  },
  {
   "cell_type": "code",
   "execution_count": 31,
   "metadata": {},
   "outputs": [
    {
     "data": {
      "text/html": [
       "<div>\n",
       "<style scoped>\n",
       "    .dataframe tbody tr th:only-of-type {\n",
       "        vertical-align: middle;\n",
       "    }\n",
       "\n",
       "    .dataframe tbody tr th {\n",
       "        vertical-align: top;\n",
       "    }\n",
       "\n",
       "    .dataframe thead th {\n",
       "        text-align: right;\n",
       "    }\n",
       "</style>\n",
       "<table border=\"1\" class=\"dataframe\">\n",
       "  <thead>\n",
       "    <tr style=\"text-align: right;\">\n",
       "      <th></th>\n",
       "      <th>Major</th>\n",
       "      <th>Gender</th>\n",
       "      <th>Admission</th>\n",
       "    </tr>\n",
       "  </thead>\n",
       "  <tbody>\n",
       "    <tr>\n",
       "      <th>0</th>\n",
       "      <td>C</td>\n",
       "      <td>F</td>\n",
       "      <td>Rejected</td>\n",
       "    </tr>\n",
       "    <tr>\n",
       "      <th>1</th>\n",
       "      <td>B</td>\n",
       "      <td>M</td>\n",
       "      <td>Accepted</td>\n",
       "    </tr>\n",
       "    <tr>\n",
       "      <th>6</th>\n",
       "      <td>F</td>\n",
       "      <td>F</td>\n",
       "      <td>Accepted</td>\n",
       "    </tr>\n",
       "    <tr>\n",
       "      <th>9</th>\n",
       "      <td>A</td>\n",
       "      <td>M</td>\n",
       "      <td>Accepted</td>\n",
       "    </tr>\n",
       "    <tr>\n",
       "      <th>11</th>\n",
       "      <td>B</td>\n",
       "      <td>M</td>\n",
       "      <td>Accepted</td>\n",
       "    </tr>\n",
       "    <tr>\n",
       "      <th>...</th>\n",
       "      <td>...</td>\n",
       "      <td>...</td>\n",
       "      <td>...</td>\n",
       "    </tr>\n",
       "    <tr>\n",
       "      <th>12747</th>\n",
       "      <td>A</td>\n",
       "      <td>M</td>\n",
       "      <td>Accepted</td>\n",
       "    </tr>\n",
       "    <tr>\n",
       "      <th>12748</th>\n",
       "      <td>F</td>\n",
       "      <td>M</td>\n",
       "      <td>Rejected</td>\n",
       "    </tr>\n",
       "    <tr>\n",
       "      <th>12752</th>\n",
       "      <td>A</td>\n",
       "      <td>M</td>\n",
       "      <td>Accepted</td>\n",
       "    </tr>\n",
       "    <tr>\n",
       "      <th>12754</th>\n",
       "      <td>A</td>\n",
       "      <td>M</td>\n",
       "      <td>Accepted</td>\n",
       "    </tr>\n",
       "    <tr>\n",
       "      <th>12759</th>\n",
       "      <td>D</td>\n",
       "      <td>M</td>\n",
       "      <td>Accepted</td>\n",
       "    </tr>\n",
       "  </tbody>\n",
       "</table>\n",
       "<p>4839 rows × 3 columns</p>\n",
       "</div>"
      ],
      "text/plain": [
       "      Major Gender Admission\n",
       "0         C      F  Rejected\n",
       "1         B      M  Accepted\n",
       "6         F      F  Accepted\n",
       "9         A      M  Accepted\n",
       "11        B      M  Accepted\n",
       "...     ...    ...       ...\n",
       "12747     A      M  Accepted\n",
       "12748     F      M  Rejected\n",
       "12752     A      M  Accepted\n",
       "12754     A      M  Accepted\n",
       "12759     D      M  Accepted\n",
       "\n",
       "[4839 rows x 3 columns]"
      ]
     },
     "execution_count": 31,
     "metadata": {},
     "output_type": "execute_result"
    }
   ],
   "source": [
    "\n",
    "# Retira os \"other\"\n",
    "grouped = df_api[df_api['Major']!= \"Other\"]\n",
    "\n",
    "# Retira a coluna \"Year\"\n",
    "grouped = grouped.drop(columns=['Year'])\n",
    "\n",
    "grouped\n"
   ]
  },
  {
   "cell_type": "markdown",
   "metadata": {},
   "source": [
    "<p style=\"color: yellow;\">8. Salvar o dataset pré-processado.<p>"
   ]
  },
  {
   "cell_type": "code",
   "execution_count": 32,
   "metadata": {},
   "outputs": [
    {
     "name": "stdout",
     "output_type": "stream",
     "text": [
      "Current columns:       Major Gender Admission\n",
      "0         C      F  Rejected\n",
      "1         B      M  Accepted\n",
      "6         F      F  Accepted\n",
      "9         A      M  Accepted\n",
      "11        B      M  Accepted\n",
      "...     ...    ...       ...\n",
      "12747     A      M  Accepted\n",
      "12748     F      M  Rejected\n",
      "12752     A      M  Accepted\n",
      "12754     A      M  Accepted\n",
      "12759     D      M  Accepted\n",
      "\n",
      "[4839 rows x 3 columns]\n",
      "Column count mismatch!\n",
      "DataFrame saved to 'output.csv'\n"
     ]
    }
   ],
   "source": [
    "\n",
    "print(\"Current columns:\", grouped)\n",
    "\n",
    "\n",
    "if len(grouped.columns) == 2:\n",
    "    \n",
    "    grouped.columns = ['Major', 'Gender']\n",
    "else:\n",
    "    print(\"Column count mismatch!\")\n",
    "\n",
    "\n",
    "grouped.to_csv('output.csv', index=True)  \n",
    "\n",
    "print(\"DataFrame saved to 'output.csv'\")"
   ]
  }
 ],
 "metadata": {
  "kernelspec": {
   "display_name": "MBA",
   "language": "python",
   "name": "python3"
  },
  "language_info": {
   "codemirror_mode": {
    "name": "ipython",
    "version": 3
   },
   "file_extension": ".py",
   "mimetype": "text/x-python",
   "name": "python",
   "nbconvert_exporter": "python",
   "pygments_lexer": "ipython3",
   "version": "3.11.8"
  }
 },
 "nbformat": 4,
 "nbformat_minor": 2
}
